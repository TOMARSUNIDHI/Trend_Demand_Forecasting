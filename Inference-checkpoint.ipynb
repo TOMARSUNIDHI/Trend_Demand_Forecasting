{
 "cells": [
  {
   "cell_type": "code",
   "execution_count": 97,
   "id": "0542932b",
   "metadata": {},
   "outputs": [],
   "source": [
    "import pickle\n",
    "import os\n",
    "from datetime import datetime\n",
    "import pandas as pd\n",
    "import numpy as np"
   ]
  },
  {
   "cell_type": "code",
   "execution_count": 98,
   "id": "38003b9f",
   "metadata": {},
   "outputs": [],
   "source": [
    "model_path = r\"C:\\data\\Models\\xgboost_regressor_r2_0_92_v1.pkl\"\n",
    "model = pickle.load(open(model_path,\"rb\"))"
   ]
  },
  {
   "cell_type": "code",
   "execution_count": 99,
   "id": "d68cdd23",
   "metadata": {},
   "outputs": [
    {
     "data": {
      "text/plain": [
       "array([364.6361], dtype=float32)"
      ]
     },
     "execution_count": 99,
     "metadata": {},
     "output_type": "execute_result"
    }
   ],
   "source": [
    "model.predict([[0.00536201,  0.25987344, -0.47082647, -0.23611548,  0.14321374,\n",
    "        2.09651259, -0.16966066,  0.        ,  0.10829126, -0.58950634,\n",
    "        0.        ,  0.        , -0.57735027,  1.73205081, -0.57735027,\n",
    "       -0.22941573]])"
   ]
  },
  {
   "cell_type": "markdown",
   "id": "2b9382de",
   "metadata": {},
   "source": [
    "# Load SC"
   ]
  },
  {
   "cell_type": "code",
   "execution_count": 100,
   "id": "0eb8f565",
   "metadata": {},
   "outputs": [],
   "source": [
    "sc_dump_path = r\"C:\\data\\Models\\sc.pkl\"\n",
    "sc = pickle.load(open(sc_dump_path, \"rb\"))"
   ]
  },
  {
   "cell_type": "code",
   "execution_count": 101,
   "id": "bdbe5f03",
   "metadata": {},
   "outputs": [
    {
     "data": {
      "text/html": [
       "<style>#sk-container-id-2 {color: black;background-color: white;}#sk-container-id-2 pre{padding: 0;}#sk-container-id-2 div.sk-toggleable {background-color: white;}#sk-container-id-2 label.sk-toggleable__label {cursor: pointer;display: block;width: 100%;margin-bottom: 0;padding: 0.3em;box-sizing: border-box;text-align: center;}#sk-container-id-2 label.sk-toggleable__label-arrow:before {content: \"▸\";float: left;margin-right: 0.25em;color: #696969;}#sk-container-id-2 label.sk-toggleable__label-arrow:hover:before {color: black;}#sk-container-id-2 div.sk-estimator:hover label.sk-toggleable__label-arrow:before {color: black;}#sk-container-id-2 div.sk-toggleable__content {max-height: 0;max-width: 0;overflow: hidden;text-align: left;background-color: #f0f8ff;}#sk-container-id-2 div.sk-toggleable__content pre {margin: 0.2em;color: black;border-radius: 0.25em;background-color: #f0f8ff;}#sk-container-id-2 input.sk-toggleable__control:checked~div.sk-toggleable__content {max-height: 200px;max-width: 100%;overflow: auto;}#sk-container-id-2 input.sk-toggleable__control:checked~label.sk-toggleable__label-arrow:before {content: \"▾\";}#sk-container-id-2 div.sk-estimator input.sk-toggleable__control:checked~label.sk-toggleable__label {background-color: #d4ebff;}#sk-container-id-2 div.sk-label input.sk-toggleable__control:checked~label.sk-toggleable__label {background-color: #d4ebff;}#sk-container-id-2 input.sk-hidden--visually {border: 0;clip: rect(1px 1px 1px 1px);clip: rect(1px, 1px, 1px, 1px);height: 1px;margin: -1px;overflow: hidden;padding: 0;position: absolute;width: 1px;}#sk-container-id-2 div.sk-estimator {font-family: monospace;background-color: #f0f8ff;border: 1px dotted black;border-radius: 0.25em;box-sizing: border-box;margin-bottom: 0.5em;}#sk-container-id-2 div.sk-estimator:hover {background-color: #d4ebff;}#sk-container-id-2 div.sk-parallel-item::after {content: \"\";width: 100%;border-bottom: 1px solid gray;flex-grow: 1;}#sk-container-id-2 div.sk-label:hover label.sk-toggleable__label {background-color: #d4ebff;}#sk-container-id-2 div.sk-serial::before {content: \"\";position: absolute;border-left: 1px solid gray;box-sizing: border-box;top: 0;bottom: 0;left: 50%;z-index: 0;}#sk-container-id-2 div.sk-serial {display: flex;flex-direction: column;align-items: center;background-color: white;padding-right: 0.2em;padding-left: 0.2em;position: relative;}#sk-container-id-2 div.sk-item {position: relative;z-index: 1;}#sk-container-id-2 div.sk-parallel {display: flex;align-items: stretch;justify-content: center;background-color: white;position: relative;}#sk-container-id-2 div.sk-item::before, #sk-container-id-2 div.sk-parallel-item::before {content: \"\";position: absolute;border-left: 1px solid gray;box-sizing: border-box;top: 0;bottom: 0;left: 50%;z-index: -1;}#sk-container-id-2 div.sk-parallel-item {display: flex;flex-direction: column;z-index: 1;position: relative;background-color: white;}#sk-container-id-2 div.sk-parallel-item:first-child::after {align-self: flex-end;width: 50%;}#sk-container-id-2 div.sk-parallel-item:last-child::after {align-self: flex-start;width: 50%;}#sk-container-id-2 div.sk-parallel-item:only-child::after {width: 0;}#sk-container-id-2 div.sk-dashed-wrapped {border: 1px dashed gray;margin: 0 0.4em 0.5em 0.4em;box-sizing: border-box;padding-bottom: 0.4em;background-color: white;}#sk-container-id-2 div.sk-label label {font-family: monospace;font-weight: bold;display: inline-block;line-height: 1.2em;}#sk-container-id-2 div.sk-label-container {text-align: center;}#sk-container-id-2 div.sk-container {/* jupyter's `normalize.less` sets `[hidden] { display: none; }` but bootstrap.min.css set `[hidden] { display: none !important; }` so we also need the `!important` here to be able to override the default hidden behavior on the sphinx rendered scikit-learn.org. See: https://github.com/scikit-learn/scikit-learn/issues/21755 */display: inline-block !important;position: relative;}#sk-container-id-2 div.sk-text-repr-fallback {display: none;}</style><div id=\"sk-container-id-2\" class=\"sk-top-container\"><div class=\"sk-text-repr-fallback\"><pre>StandardScaler()</pre><b>In a Jupyter environment, please rerun this cell to show the HTML representation or trust the notebook. <br />On GitHub, the HTML representation is unable to render, please try loading this page with nbviewer.org.</b></div><div class=\"sk-container\" hidden><div class=\"sk-item\"><div class=\"sk-estimator sk-toggleable\"><input class=\"sk-toggleable__control sk-hidden--visually\" id=\"sk-estimator-id-2\" type=\"checkbox\" checked><label for=\"sk-estimator-id-2\" class=\"sk-toggleable__label sk-toggleable__label-arrow\">StandardScaler</label><div class=\"sk-toggleable__content\"><pre>StandardScaler()</pre></div></div></div></div></div>"
      ],
      "text/plain": [
       "StandardScaler()"
      ]
     },
     "execution_count": 101,
     "metadata": {},
     "output_type": "execute_result"
    }
   ],
   "source": [
    "sc"
   ]
  },
  {
   "cell_type": "markdown",
   "id": "16750bba",
   "metadata": {},
   "source": [
    "# Users Input"
   ]
  },
  {
   "cell_type": "code",
   "execution_count": 141,
   "id": "15215445",
   "metadata": {},
   "outputs": [],
   "source": [
    "Date = \"10/06/24\"\n",
    "Hour = 12\n",
    "Temperature = 34\n",
    "Humidity = 55\n",
    "Visibility = 100\n",
    "sku = 10016283\n",
    "Wind_speed = 67\n",
    "Rainfall = 0.7\n",
    "Snowfall = 0.2"
   ]
  },
  {
   "cell_type": "markdown",
   "id": "b5589e5d",
   "metadata": {},
   "source": [
    "# Converting User Data into Model Consumable Format"
   ]
  },
  {
   "cell_type": "code",
   "execution_count": 103,
   "id": "22985ecd",
   "metadata": {},
   "outputs": [
    {
     "data": {
      "text/plain": [
       "{'day': 10, 'month': 6, 'year': 2024, 'weekday': 'Monday'}"
      ]
     },
     "execution_count": 103,
     "metadata": {},
     "output_type": "execute_result"
    }
   ],
   "source": [
    "from datetime import datetime\n",
    "def get_string_to_datetime(date):\n",
    "    dt = datetime.strptime(Date, \"%d/%m/%y\")\n",
    "    return {\"day\": dt.day, \"month\": dt.month, \"year\": dt.year, \"weekday\": dt.strftime(\"%A\")}\n",
    "get_string_to_datetime(Date)\n",
    "str_to_date = get_string_to_datetime(Date)\n",
    "str_to_date"
   ]
  },
  {
   "cell_type": "code",
   "execution_count": 129,
   "id": "23ae8c66",
   "metadata": {},
   "outputs": [
    {
     "data": {
      "text/html": [
       "<div>\n",
       "<style scoped>\n",
       "    .dataframe tbody tr th:only-of-type {\n",
       "        vertical-align: middle;\n",
       "    }\n",
       "\n",
       "    .dataframe tbody tr th {\n",
       "        vertical-align: top;\n",
       "    }\n",
       "\n",
       "    .dataframe thead th {\n",
       "        text-align: right;\n",
       "    }\n",
       "</style>\n",
       "<table border=\"1\" class=\"dataframe\">\n",
       "  <thead>\n",
       "    <tr style=\"text-align: right;\">\n",
       "      <th></th>\n",
       "      <th>Hour</th>\n",
       "      <th>Temperature(°C)</th>\n",
       "      <th>Humidity(%)</th>\n",
       "      <th>Wind speed (m/s)</th>\n",
       "      <th>Visibility (10m)</th>\n",
       "      <th>Solar Radiation (MJ/m2)</th>\n",
       "      <th>Rainfall(mm)</th>\n",
       "      <th>Snowfall (cm)</th>\n",
       "      <th>sku</th>\n",
       "      <th>Day</th>\n",
       "      <th>Month</th>\n",
       "      <th>Year</th>\n",
       "    </tr>\n",
       "  </thead>\n",
       "  <tbody>\n",
       "    <tr>\n",
       "      <th>0</th>\n",
       "      <td>12</td>\n",
       "      <td>34</td>\n",
       "      <td>55</td>\n",
       "      <td>67</td>\n",
       "      <td>100</td>\n",
       "      <td>20.0</td>\n",
       "      <td>0.7</td>\n",
       "      <td>0.2</td>\n",
       "      <td>10017413</td>\n",
       "      <td>1</td>\n",
       "      <td>7</td>\n",
       "      <td>2024</td>\n",
       "    </tr>\n",
       "  </tbody>\n",
       "</table>\n",
       "</div>"
      ],
      "text/plain": [
       "   Hour  Temperature(°C)  Humidity(%)  Wind speed (m/s)  Visibility (10m)  \\\n",
       "0    12               34           55                67               100   \n",
       "\n",
       "   Solar Radiation (MJ/m2)  Rainfall(mm)  Snowfall (cm)       sku  Day  Month  \\\n",
       "0                     20.0           0.7            0.2  10017413    1      7   \n",
       "\n",
       "   Year  \n",
       "0  2024  "
      ]
     },
     "execution_count": 129,
     "metadata": {},
     "output_type": "execute_result"
    }
   ],
   "source": [
    "# Ensure str_to_date is a dictionary with \"day\", \"month\", and \"year\" keys\n",
    "str_to_date = {\"day\": 1, \"month\": 7, \"year\": 2024}\n",
    "\n",
    "# Define your input list properly (replace with actual values or variables)\n",
    "u_input_list = [\n",
    "    Hour,  # Replace with actual value or variable\n",
    "    Temperature,  # Replace with actual value or variable\n",
    "    Humidity,  # Replace with actual value or variable\n",
    "    Wind_speed,  # Replace with actual value or variable\n",
    "    Visibility,\n",
    "    Solar_Radiation,\n",
    "    Rainfall,  # Replace with actual value or variable\n",
    "    Snowfall,  # Replace with actual value or variable  # Replace with actual value or variable\n",
    "    sku,  # Replace with actual value or variable\n",
    "    str_to_date[\"day\"], \n",
    "    str_to_date[\"month\"], \n",
    "    str_to_date[\"year\"],\n",
    "]\n",
    "\n",
    "# Define your features name list properly\n",
    "features_name = [\n",
    "    'Hour', \n",
    "    'Temperature(°C)', \n",
    "    'Humidity(%)',\n",
    "    'Wind speed (m/s)', \n",
    "    'Visibility (10m)',\n",
    "    'Solar Radiation (MJ/m2)',\n",
    "    'Rainfall(mm)', \n",
    "    'Snowfall (cm)',\n",
    "    'sku', \n",
    "    'Day', \n",
    "    'Month', \n",
    "    'Year'\n",
    "]\n",
    "\n",
    "# Create DataFrame\n",
    "data_u_input = pd.DataFrame([u_input_list], columns=features_name)\n",
    "data_u_input\n"
   ]
  },
  {
   "cell_type": "code",
   "execution_count": 130,
   "id": "aaeed169",
   "metadata": {},
   "outputs": [
    {
     "data": {
      "text/plain": [
       "[12, 34, 55, 67, 100, 20.0, 0.7, 0.2, 10017413, 1, 7, 2024]"
      ]
     },
     "execution_count": 130,
     "metadata": {},
     "output_type": "execute_result"
    }
   ],
   "source": [
    "u_input_list"
   ]
  },
  {
   "cell_type": "code",
   "execution_count": 131,
   "id": "7fa05c9d",
   "metadata": {},
   "outputs": [
    {
     "data": {
      "text/plain": [
       "['Hour',\n",
       " 'Temperature(°C)',\n",
       " 'Humidity(%)',\n",
       " 'Wind speed (m/s)',\n",
       " 'Visibility (10m)',\n",
       " 'Solar Radiation (MJ/m2)',\n",
       " 'Rainfall(mm)',\n",
       " 'Snowfall (cm)',\n",
       " 'sku',\n",
       " 'Day',\n",
       " 'Month',\n",
       " 'Year']"
      ]
     },
     "execution_count": 131,
     "metadata": {},
     "output_type": "execute_result"
    }
   ],
   "source": [
    "features_name"
   ]
  },
  {
   "cell_type": "code",
   "execution_count": 132,
   "id": "cf5cd5e9",
   "metadata": {},
   "outputs": [
    {
     "data": {
      "text/html": [
       "<div>\n",
       "<style scoped>\n",
       "    .dataframe tbody tr th:only-of-type {\n",
       "        vertical-align: middle;\n",
       "    }\n",
       "\n",
       "    .dataframe tbody tr th {\n",
       "        vertical-align: top;\n",
       "    }\n",
       "\n",
       "    .dataframe thead th {\n",
       "        text-align: right;\n",
       "    }\n",
       "</style>\n",
       "<table border=\"1\" class=\"dataframe\">\n",
       "  <thead>\n",
       "    <tr style=\"text-align: right;\">\n",
       "      <th></th>\n",
       "      <th>Monday</th>\n",
       "      <th>Saturday</th>\n",
       "      <th>Sunday</th>\n",
       "      <th>Tuesday</th>\n",
       "    </tr>\n",
       "  </thead>\n",
       "  <tbody>\n",
       "    <tr>\n",
       "      <th>0</th>\n",
       "      <td>1</td>\n",
       "      <td>0</td>\n",
       "      <td>0</td>\n",
       "      <td>0</td>\n",
       "    </tr>\n",
       "  </tbody>\n",
       "</table>\n",
       "</div>"
      ],
      "text/plain": [
       "   Monday  Saturday  Sunday  Tuesday\n",
       "0       1         0       0        0"
      ]
     },
     "execution_count": 132,
     "metadata": {},
     "output_type": "execute_result"
    }
   ],
   "source": [
    "# Example assuming 'weekday' is a key in your str_to_date dictionary\n",
    "str_to_date = {\n",
    "    'wee_day': 'Monday'  # Example value, adjust as per your actual data\n",
    "}\n",
    "\n",
    "def days_data(week_day):\n",
    "    days_name = ['Monday', 'Saturday', 'Sunday', 'Tuesday']\n",
    "    days_name_data = np.zeros((1, len(days_name)), dtype=\"int\")\n",
    "    data_days = pd.DataFrame(days_name_data, columns=days_name)\n",
    "    if week_day in days_name:\n",
    "        data_days[week_day] = 1\n",
    "    return data_days\n",
    "\n",
    "data_days = days_data(str_to_date[\"wee_day\"])\n",
    "data_days\n",
    "\n",
    "\n"
   ]
  },
  {
   "cell_type": "code",
   "execution_count": 133,
   "id": "c05ed4d9",
   "metadata": {},
   "outputs": [
    {
     "data": {
      "text/html": [
       "<div>\n",
       "<style scoped>\n",
       "    .dataframe tbody tr th:only-of-type {\n",
       "        vertical-align: middle;\n",
       "    }\n",
       "\n",
       "    .dataframe tbody tr th {\n",
       "        vertical-align: top;\n",
       "    }\n",
       "\n",
       "    .dataframe thead th {\n",
       "        text-align: right;\n",
       "    }\n",
       "</style>\n",
       "<table border=\"1\" class=\"dataframe\">\n",
       "  <thead>\n",
       "    <tr style=\"text-align: right;\">\n",
       "      <th></th>\n",
       "      <th>Hour</th>\n",
       "      <th>Temperature(°C)</th>\n",
       "      <th>Humidity(%)</th>\n",
       "      <th>Wind speed (m/s)</th>\n",
       "      <th>Visibility (10m)</th>\n",
       "      <th>Solar Radiation (MJ/m2)</th>\n",
       "      <th>Rainfall(mm)</th>\n",
       "      <th>Snowfall (cm)</th>\n",
       "      <th>sku</th>\n",
       "      <th>Day</th>\n",
       "      <th>Month</th>\n",
       "      <th>Year</th>\n",
       "      <th>Monday</th>\n",
       "      <th>Saturday</th>\n",
       "      <th>Sunday</th>\n",
       "      <th>Tuesday</th>\n",
       "    </tr>\n",
       "  </thead>\n",
       "  <tbody>\n",
       "    <tr>\n",
       "      <th>0</th>\n",
       "      <td>12</td>\n",
       "      <td>34</td>\n",
       "      <td>55</td>\n",
       "      <td>67</td>\n",
       "      <td>100</td>\n",
       "      <td>20.0</td>\n",
       "      <td>0.7</td>\n",
       "      <td>0.2</td>\n",
       "      <td>10017413</td>\n",
       "      <td>1</td>\n",
       "      <td>7</td>\n",
       "      <td>2024</td>\n",
       "      <td>1</td>\n",
       "      <td>0</td>\n",
       "      <td>0</td>\n",
       "      <td>0</td>\n",
       "    </tr>\n",
       "  </tbody>\n",
       "</table>\n",
       "</div>"
      ],
      "text/plain": [
       "   Hour  Temperature(°C)  Humidity(%)  Wind speed (m/s)  Visibility (10m)  \\\n",
       "0    12               34           55                67               100   \n",
       "\n",
       "   Solar Radiation (MJ/m2)  Rainfall(mm)  Snowfall (cm)       sku  Day  Month  \\\n",
       "0                     20.0           0.7            0.2  10017413    1      7   \n",
       "\n",
       "   Year  Monday  Saturday  Sunday  Tuesday  \n",
       "0  2024       1         0       0        0  "
      ]
     },
     "execution_count": 133,
     "metadata": {},
     "output_type": "execute_result"
    }
   ],
   "source": [
    "data_for_pred = pd.concat([data_u_input,data_days], axis=1)\n",
    "data_for_pred"
   ]
  },
  {
   "cell_type": "code",
   "execution_count": null,
   "id": "b981f2ea",
   "metadata": {},
   "outputs": [],
   "source": []
  },
  {
   "cell_type": "code",
   "execution_count": 63,
   "id": "77eb9c67",
   "metadata": {},
   "outputs": [
    {
     "data": {
      "text/plain": [
       "['Hour',\n",
       " 'Temperature(°C)',\n",
       " 'Humidity(%)',\n",
       " 'Wind speed (m/s)',\n",
       " 'Visibility (10m)',\n",
       " 'Solar Radiation (MJ/m2)',\n",
       " 'Rainfall(mm)',\n",
       " 'Snowfall (cm)',\n",
       " 'sku',\n",
       " 'Day',\n",
       " 'Month',\n",
       " 'Year',\n",
       " 'Monday',\n",
       " 'Saturday',\n",
       " 'Sunday',\n",
       " 'Tuesday']"
      ]
     },
     "execution_count": 63,
     "metadata": {},
     "output_type": "execute_result"
    }
   ],
   "source": [
    "['Hour', 'Temperature(°C)', 'Humidity(%)',\n",
    "       'Wind speed (m/s)', 'Visibility (10m)', 'Solar Radiation (MJ/m2)',\n",
    "       'Rainfall(mm)', 'Snowfall (cm)', 'sku', 'Day', 'Month', 'Year',\n",
    "       'Monday', 'Saturday', 'Sunday', 'Tuesday']"
   ]
  },
  {
   "cell_type": "code",
   "execution_count": 134,
   "id": "24e4327f",
   "metadata": {},
   "outputs": [
    {
     "data": {
      "text/html": [
       "<div>\n",
       "<style scoped>\n",
       "    .dataframe tbody tr th:only-of-type {\n",
       "        vertical-align: middle;\n",
       "    }\n",
       "\n",
       "    .dataframe tbody tr th {\n",
       "        vertical-align: top;\n",
       "    }\n",
       "\n",
       "    .dataframe thead th {\n",
       "        text-align: right;\n",
       "    }\n",
       "</style>\n",
       "<table border=\"1\" class=\"dataframe\">\n",
       "  <thead>\n",
       "    <tr style=\"text-align: right;\">\n",
       "      <th></th>\n",
       "      <th>Hour</th>\n",
       "      <th>Temperature(°C)</th>\n",
       "      <th>Humidity(%)</th>\n",
       "      <th>Wind speed (m/s)</th>\n",
       "      <th>Visibility (10m)</th>\n",
       "      <th>Solar Radiation (MJ/m2)</th>\n",
       "      <th>Rainfall(mm)</th>\n",
       "      <th>Snowfall (cm)</th>\n",
       "      <th>sku</th>\n",
       "      <th>Day</th>\n",
       "      <th>Month</th>\n",
       "      <th>Year</th>\n",
       "      <th>Monday</th>\n",
       "      <th>Saturday</th>\n",
       "      <th>Sunday</th>\n",
       "      <th>Tuesday</th>\n",
       "    </tr>\n",
       "  </thead>\n",
       "  <tbody>\n",
       "    <tr>\n",
       "      <th>0</th>\n",
       "      <td>12</td>\n",
       "      <td>34</td>\n",
       "      <td>55</td>\n",
       "      <td>67</td>\n",
       "      <td>100</td>\n",
       "      <td>20.0</td>\n",
       "      <td>0.7</td>\n",
       "      <td>0.2</td>\n",
       "      <td>10017413</td>\n",
       "      <td>1</td>\n",
       "      <td>7</td>\n",
       "      <td>2024</td>\n",
       "      <td>1</td>\n",
       "      <td>0</td>\n",
       "      <td>0</td>\n",
       "      <td>0</td>\n",
       "    </tr>\n",
       "  </tbody>\n",
       "</table>\n",
       "</div>"
      ],
      "text/plain": [
       "   Hour  Temperature(°C)  Humidity(%)  Wind speed (m/s)  Visibility (10m)  \\\n",
       "0    12               34           55                67               100   \n",
       "\n",
       "   Solar Radiation (MJ/m2)  Rainfall(mm)  Snowfall (cm)       sku  Day  Month  \\\n",
       "0                     20.0           0.7            0.2  10017413    1      7   \n",
       "\n",
       "   Year  Monday  Saturday  Sunday  Tuesday  \n",
       "0  2024       1         0       0        0  "
      ]
     },
     "execution_count": 134,
     "metadata": {},
     "output_type": "execute_result"
    }
   ],
   "source": [
    "pd.concat([data_u_input, data_days], axis=1)"
   ]
  },
  {
   "cell_type": "code",
   "execution_count": 135,
   "id": "e128f7d8",
   "metadata": {},
   "outputs": [
    {
     "data": {
      "text/plain": [
       "array([[ 0.14834893,  7.29206528, -0.20650284, 56.00033769, -1.70383868,\n",
       "        52.92916755,  2.14765567,  0.2       ,  0.11978994, -1.43165827,\n",
       "        -5.        ,  7.        ,  1.73205081, -0.57735027, -0.57735027,\n",
       "        -0.22941573]])"
      ]
     },
     "execution_count": 135,
     "metadata": {},
     "output_type": "execute_result"
    }
   ],
   "source": [
    "sc_data_for_pred = sc.transform(data_for_pred)\n",
    "sc_data_for_pred\n"
   ]
  },
  {
   "cell_type": "markdown",
   "id": "76467a99",
   "metadata": {},
   "source": [
    "# Prediction in Deployment"
   ]
  },
  {
   "cell_type": "code",
   "execution_count": 142,
   "id": "1fee3a29",
   "metadata": {},
   "outputs": [
    {
     "name": "stdout",
     "output_type": "stream",
     "text": [
      "Trend Demand on date: 10/06/24, and Time: 12 is : [429.06296]\n"
     ]
    }
   ],
   "source": [
    "model.predict(sc_data_for_pred)\n",
    "\n",
    "print(f\"Trend Demand on date: {Date}, and Time: {Hour} is : {model.predict(sc_data_for_pred)}\")"
   ]
  },
  {
   "cell_type": "code",
   "execution_count": null,
   "id": "72194e11",
   "metadata": {},
   "outputs": [],
   "source": []
  }
 ],
 "metadata": {
  "kernelspec": {
   "display_name": "Python 3 (ipykernel)",
   "language": "python",
   "name": "python3"
  },
  "language_info": {
   "codemirror_mode": {
    "name": "ipython",
    "version": 3
   },
   "file_extension": ".py",
   "mimetype": "text/x-python",
   "name": "python",
   "nbconvert_exporter": "python",
   "pygments_lexer": "ipython3",
   "version": "3.10.9"
  }
 },
 "nbformat": 4,
 "nbformat_minor": 5
}
